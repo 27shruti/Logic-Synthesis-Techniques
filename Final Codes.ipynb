{
 "cells": [
  {
   "cell_type": "code",
   "execution_count": 20,
   "metadata": {},
   "outputs": [
    {
     "name": "stdout",
     "output_type": "stream",
     "text": [
      "a\n",
      "b\n",
      "c\n",
      "Or(And(~a, b), And(~b, c), And(a, c))\n",
      "(c, c, 1, c)\n"
     ]
    }
   ],
   "source": [
    "import pyeda\n",
    "from pyeda.boolalg.boolfunc import *\n",
    "from pyeda.boolalg.expr import exprvar\n",
    "from pyeda.inter import *\n",
    "from graphviz import Source\n",
    "from pyeda.boolalg.bfarray import exprvars\n",
    "\n",
    "def cofactQ1(expression, variable):\n",
    "    \n",
    "    tmp = Function\n",
    "    t = tmp.cofactors(expression, variable)\n",
    "    return t\n",
    "\n",
    "def bdd(expression):\n",
    "   \n",
    "    f = expr2bdd(expression)\n",
    "    gv = Source(f.to_dot())\n",
    "    gv.render('render_pdf_name',view=True)\n",
    "    \n",
    "def define_var(var_array):\n",
    "   \n",
    "    for i in range(len(var_array)):\n",
    "           \n",
    "               r = var_array[i]\n",
    "               #print(exprvar(r))\n",
    "               r = exprvar(r)\n",
    "               print(r)\n",
    "           \n",
    "        \n",
    "var_array = ['a','b','c']\n",
    "define_var(var_array)\n",
    "expression = '~a&b|~b&c|a&c'\n",
    "f = expr(expression)\n",
    "print(f)\n",
    "var_list = [a,b]\n",
    "\n",
    "u = cofactQ1(f,var_list)\n",
    "print(u)\n",
    "\n",
    "v = bdd(f)\n"
   ]
  },
  {
   "cell_type": "code",
   "execution_count": 19,
   "metadata": {},
   "outputs": [
    {
     "name": "stdout",
     "output_type": "stream",
     "text": [
      "a\n",
      "b\n",
      "c\n",
      "[b, c, a] \n",
      " Or(a, b, c)\n",
      "Or(a, b, c)\n",
      "(c, 1, 1, 1)\n"
     ]
    }
   ],
   "source": [
    "#####LST Project - SHRUTI MASAND-181EC245, VISHAL SHUKLA-171EC252#####\n",
    "\n",
    "#Import all libraries required for the code to function properly\n",
    "\n",
    "#Pyeda library for implementing the data structures and algorithms \n",
    "#necessary for performing logic synthesis and verification\n",
    "\n",
    "import pyeda\n",
    "from pyeda.boolalg.boolfunc import *\n",
    "from pyeda.boolalg.expr import exprvar\n",
    "from pyeda.inter import *\n",
    "from pyeda.boolalg.bfarray import exprvars\n",
    "\n",
    "#Graphviz library for using the graphviz tool in order to\n",
    "#visualise the constructed ROBDD\n",
    "\n",
    "from graphviz import Source\n",
    "\n",
    "def cofactQ1(expression, variable):\n",
    "    \n",
    "    tmp = Function\n",
    "    t = tmp.cofactors(expression, variable)\n",
    "    return t\n",
    "\n",
    "def bdd(expression):\n",
    "   \n",
    "    f = expr2bdd(expression)\n",
    "    gv = Source(f.to_dot())\n",
    "    gv.render('render_pdf_name',view=True)\n",
    "    \n",
    "def define_var(var_array):\n",
    "   \n",
    "    for i in range(len(var_array)):\n",
    "           \n",
    "               r = var_array[i]\n",
    "               #print(exprvar(r))\n",
    "               r = exprvar(r)\n",
    "               print(r)\n",
    "           \n",
    "        \n",
    "var_array = ['a','b','c']\n",
    "define_var(var_array)\n",
    "\n",
    "\n",
    "\n",
    "f = Function()\n",
    "expression = 'a|b|c'\n",
    "f = expr(expression)\n",
    "\n",
    "#a, b, c = map(exprvar, 'abc')\n",
    "\n",
    "varli = f.support\n",
    "print(list(varli),'\\n',f)\n",
    "varlist = list(varli)\n",
    "\n",
    "print(f)\n",
    "var_list = [a,b]\n",
    "\n",
    "u = cofactQ1(f,var_list)\n",
    "print(u)\n",
    "\n",
    "v = bdd(f)"
   ]
  },
  {
   "cell_type": "code",
   "execution_count": 22,
   "metadata": {},
   "outputs": [
    {
     "ename": "TypeError",
     "evalue": "expected Variable, got str",
     "output_type": "error",
     "traceback": [
      "\u001b[0;31m---------------------------------------------------------------------------\u001b[0m",
      "\u001b[0;31mTypeError\u001b[0m                                 Traceback (most recent call last)",
      "\u001b[0;32m<ipython-input-22-be03e6ce6c73>\u001b[0m in \u001b[0;36m<module>\u001b[0;34m\u001b[0m\n\u001b[0;32m----> 1\u001b[0;31m \u001b[0mt\u001b[0m \u001b[0;34m=\u001b[0m \u001b[0mtmp\u001b[0m\u001b[0;34m.\u001b[0m\u001b[0mcofactors\u001b[0m\u001b[0;34m(\u001b[0m\u001b[0ma\u001b[0m\u001b[0;34m&\u001b[0m\u001b[0mb\u001b[0m\u001b[0;34m,\u001b[0m \u001b[0;34m'a'\u001b[0m\u001b[0;34m)\u001b[0m\u001b[0;34m\u001b[0m\u001b[0;34m\u001b[0m\u001b[0m\n\u001b[0m",
      "\u001b[0;32m~/.local/lib/python3.8/site-packages/pyeda/boolalg/boolfunc.py\u001b[0m in \u001b[0;36mcofactors\u001b[0;34m(self, vs)\u001b[0m\n\u001b[1;32m    665\u001b[0m         \u001b[0;34m:\u001b[0m\u001b[0mmath\u001b[0m\u001b[0;34m:\u001b[0m\u001b[0;31m`\u001b[0m\u001b[0mf_\u001b[0m\u001b[0;34m{\u001b[0m\u001b[0mx_i\u001b[0m\u001b[0;31m'\u001b[0m\u001b[0;34m}\u001b[0m \u001b[0;34m=\u001b[0m \u001b[0mf\u001b[0m\u001b[0;34m(\u001b[0m\u001b[0mx_1\u001b[0m\u001b[0;34m,\u001b[0m \u001b[0mx_2\u001b[0m\u001b[0;34m,\u001b[0m\u001b[0;31m \u001b[0m\u001b[0;31m\\\u001b[0m\u001b[0mdots\u001b[0m\u001b[0;34m,\u001b[0m \u001b[0;36m0\u001b[0m\u001b[0;34m,\u001b[0m\u001b[0;31m \u001b[0m\u001b[0;31m\\\u001b[0m\u001b[0mdots\u001b[0m\u001b[0;34m,\u001b[0m \u001b[0mx_n\u001b[0m\u001b[0;34m)\u001b[0m\u001b[0;31m`\u001b[0m\u001b[0;34m\u001b[0m\u001b[0;34m\u001b[0m\u001b[0m\n\u001b[1;32m    666\u001b[0m         \"\"\"\n\u001b[0;32m--> 667\u001b[0;31m         \u001b[0;32mreturn\u001b[0m \u001b[0mtuple\u001b[0m\u001b[0;34m(\u001b[0m\u001b[0mcf\u001b[0m \u001b[0;32mfor\u001b[0m \u001b[0mcf\u001b[0m \u001b[0;32min\u001b[0m \u001b[0mself\u001b[0m\u001b[0;34m.\u001b[0m\u001b[0miter_cofactors\u001b[0m\u001b[0;34m(\u001b[0m\u001b[0mvs\u001b[0m\u001b[0;34m)\u001b[0m\u001b[0;34m)\u001b[0m\u001b[0;34m\u001b[0m\u001b[0;34m\u001b[0m\u001b[0m\n\u001b[0m\u001b[1;32m    668\u001b[0m \u001b[0;34m\u001b[0m\u001b[0m\n\u001b[1;32m    669\u001b[0m     \u001b[0;32mdef\u001b[0m \u001b[0msmoothing\u001b[0m\u001b[0;34m(\u001b[0m\u001b[0mself\u001b[0m\u001b[0;34m,\u001b[0m \u001b[0mvs\u001b[0m\u001b[0;34m=\u001b[0m\u001b[0;32mNone\u001b[0m\u001b[0;34m)\u001b[0m\u001b[0;34m:\u001b[0m\u001b[0;34m\u001b[0m\u001b[0;34m\u001b[0m\u001b[0m\n",
      "\u001b[0;32m~/.local/lib/python3.8/site-packages/pyeda/boolalg/boolfunc.py\u001b[0m in \u001b[0;36m<genexpr>\u001b[0;34m(.0)\u001b[0m\n\u001b[1;32m    665\u001b[0m         \u001b[0;34m:\u001b[0m\u001b[0mmath\u001b[0m\u001b[0;34m:\u001b[0m\u001b[0;31m`\u001b[0m\u001b[0mf_\u001b[0m\u001b[0;34m{\u001b[0m\u001b[0mx_i\u001b[0m\u001b[0;31m'\u001b[0m\u001b[0;34m}\u001b[0m \u001b[0;34m=\u001b[0m \u001b[0mf\u001b[0m\u001b[0;34m(\u001b[0m\u001b[0mx_1\u001b[0m\u001b[0;34m,\u001b[0m \u001b[0mx_2\u001b[0m\u001b[0;34m,\u001b[0m\u001b[0;31m \u001b[0m\u001b[0;31m\\\u001b[0m\u001b[0mdots\u001b[0m\u001b[0;34m,\u001b[0m \u001b[0;36m0\u001b[0m\u001b[0;34m,\u001b[0m\u001b[0;31m \u001b[0m\u001b[0;31m\\\u001b[0m\u001b[0mdots\u001b[0m\u001b[0;34m,\u001b[0m \u001b[0mx_n\u001b[0m\u001b[0;34m)\u001b[0m\u001b[0;31m`\u001b[0m\u001b[0;34m\u001b[0m\u001b[0;34m\u001b[0m\u001b[0m\n\u001b[1;32m    666\u001b[0m         \"\"\"\n\u001b[0;32m--> 667\u001b[0;31m         \u001b[0;32mreturn\u001b[0m \u001b[0mtuple\u001b[0m\u001b[0;34m(\u001b[0m\u001b[0mcf\u001b[0m \u001b[0;32mfor\u001b[0m \u001b[0mcf\u001b[0m \u001b[0;32min\u001b[0m \u001b[0mself\u001b[0m\u001b[0;34m.\u001b[0m\u001b[0miter_cofactors\u001b[0m\u001b[0;34m(\u001b[0m\u001b[0mvs\u001b[0m\u001b[0;34m)\u001b[0m\u001b[0;34m)\u001b[0m\u001b[0;34m\u001b[0m\u001b[0;34m\u001b[0m\u001b[0m\n\u001b[0m\u001b[1;32m    668\u001b[0m \u001b[0;34m\u001b[0m\u001b[0m\n\u001b[1;32m    669\u001b[0m     \u001b[0;32mdef\u001b[0m \u001b[0msmoothing\u001b[0m\u001b[0;34m(\u001b[0m\u001b[0mself\u001b[0m\u001b[0;34m,\u001b[0m \u001b[0mvs\u001b[0m\u001b[0;34m=\u001b[0m\u001b[0;32mNone\u001b[0m\u001b[0;34m)\u001b[0m\u001b[0;34m:\u001b[0m\u001b[0;34m\u001b[0m\u001b[0;34m\u001b[0m\u001b[0m\n",
      "\u001b[0;32m~/.local/lib/python3.8/site-packages/pyeda/boolalg/boolfunc.py\u001b[0m in \u001b[0;36miter_cofactors\u001b[0;34m(self, vs)\u001b[0m\n\u001b[1;32m    648\u001b[0m         \u001b[0;34m:\u001b[0m\u001b[0mmath\u001b[0m\u001b[0;34m:\u001b[0m\u001b[0;31m`\u001b[0m\u001b[0mf_\u001b[0m\u001b[0;34m{\u001b[0m\u001b[0mx_i\u001b[0m\u001b[0;31m'\u001b[0m\u001b[0;34m}\u001b[0m \u001b[0;34m=\u001b[0m \u001b[0mf\u001b[0m\u001b[0;34m(\u001b[0m\u001b[0mx_1\u001b[0m\u001b[0;34m,\u001b[0m \u001b[0mx_2\u001b[0m\u001b[0;34m,\u001b[0m\u001b[0;31m \u001b[0m\u001b[0;31m\\\u001b[0m\u001b[0mdots\u001b[0m\u001b[0;34m,\u001b[0m \u001b[0;36m0\u001b[0m\u001b[0;34m,\u001b[0m\u001b[0;31m \u001b[0m\u001b[0;31m\\\u001b[0m\u001b[0mdots\u001b[0m\u001b[0;34m,\u001b[0m \u001b[0mx_n\u001b[0m\u001b[0;34m)\u001b[0m\u001b[0;31m`\u001b[0m\u001b[0;34m\u001b[0m\u001b[0;34m\u001b[0m\u001b[0m\n\u001b[1;32m    649\u001b[0m         \"\"\"\n\u001b[0;32m--> 650\u001b[0;31m         \u001b[0mvs\u001b[0m \u001b[0;34m=\u001b[0m \u001b[0mself\u001b[0m\u001b[0;34m.\u001b[0m\u001b[0m_expect_vars\u001b[0m\u001b[0;34m(\u001b[0m\u001b[0mvs\u001b[0m\u001b[0;34m)\u001b[0m\u001b[0;34m\u001b[0m\u001b[0;34m\u001b[0m\u001b[0m\n\u001b[0m\u001b[1;32m    651\u001b[0m         \u001b[0;32mfor\u001b[0m \u001b[0mpoint\u001b[0m \u001b[0;32min\u001b[0m \u001b[0miter_points\u001b[0m\u001b[0;34m(\u001b[0m\u001b[0mvs\u001b[0m\u001b[0;34m)\u001b[0m\u001b[0;34m:\u001b[0m\u001b[0;34m\u001b[0m\u001b[0;34m\u001b[0m\u001b[0m\n\u001b[1;32m    652\u001b[0m             \u001b[0;32myield\u001b[0m \u001b[0mself\u001b[0m\u001b[0;34m.\u001b[0m\u001b[0mrestrict\u001b[0m\u001b[0;34m(\u001b[0m\u001b[0mpoint\u001b[0m\u001b[0;34m)\u001b[0m\u001b[0;34m\u001b[0m\u001b[0;34m\u001b[0m\u001b[0m\n",
      "\u001b[0;32m~/.local/lib/python3.8/site-packages/pyeda/boolalg/boolfunc.py\u001b[0m in \u001b[0;36m_expect_vars\u001b[0;34m(vs)\u001b[0m\n\u001b[1;32m    755\u001b[0m                 \u001b[0;32melse\u001b[0m\u001b[0;34m:\u001b[0m\u001b[0;34m\u001b[0m\u001b[0;34m\u001b[0m\u001b[0m\n\u001b[1;32m    756\u001b[0m                     \u001b[0mfstr\u001b[0m \u001b[0;34m=\u001b[0m \u001b[0;34m\"expected Variable, got {0.__name__}\"\u001b[0m\u001b[0;34m\u001b[0m\u001b[0;34m\u001b[0m\u001b[0m\n\u001b[0;32m--> 757\u001b[0;31m                     \u001b[0;32mraise\u001b[0m \u001b[0mTypeError\u001b[0m\u001b[0;34m(\u001b[0m\u001b[0mfstr\u001b[0m\u001b[0;34m.\u001b[0m\u001b[0mformat\u001b[0m\u001b[0;34m(\u001b[0m\u001b[0mtype\u001b[0m\u001b[0;34m(\u001b[0m\u001b[0mv\u001b[0m\u001b[0;34m)\u001b[0m\u001b[0;34m)\u001b[0m\u001b[0;34m)\u001b[0m\u001b[0;34m\u001b[0m\u001b[0;34m\u001b[0m\u001b[0m\n\u001b[0m\u001b[1;32m    758\u001b[0m             \u001b[0;32mreturn\u001b[0m \u001b[0mchecked\u001b[0m\u001b[0;34m\u001b[0m\u001b[0;34m\u001b[0m\u001b[0m\n\u001b[1;32m    759\u001b[0m \u001b[0;34m\u001b[0m\u001b[0m\n",
      "\u001b[0;31mTypeError\u001b[0m: expected Variable, got str"
     ]
    }
   ],
   "source": [
    "   t = tmp.cofactors(a&b,'a')"
   ]
  },
  {
   "cell_type": "code",
   "execution_count": null,
   "metadata": {},
   "outputs": [],
   "source": []
  }
 ],
 "metadata": {
  "kernelspec": {
   "display_name": "Python 3",
   "language": "python",
   "name": "python3"
  },
  "language_info": {
   "codemirror_mode": {
    "name": "ipython",
    "version": 3
   },
   "file_extension": ".py",
   "mimetype": "text/x-python",
   "name": "python",
   "nbconvert_exporter": "python",
   "pygments_lexer": "ipython3",
   "version": "3.8.2"
  }
 },
 "nbformat": 4,
 "nbformat_minor": 2
}
